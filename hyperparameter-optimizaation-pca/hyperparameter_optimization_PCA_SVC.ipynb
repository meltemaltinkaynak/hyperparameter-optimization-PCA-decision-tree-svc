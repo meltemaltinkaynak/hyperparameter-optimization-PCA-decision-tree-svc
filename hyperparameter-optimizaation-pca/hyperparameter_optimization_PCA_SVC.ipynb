{
  "nbformat": 4,
  "nbformat_minor": 0,
  "metadata": {
    "colab": {
      "provenance": [],
      "gpuType": "V28"
    },
    "kernelspec": {
      "name": "python3",
      "display_name": "Python 3"
    },
    "language_info": {
      "name": "python"
    },
    "accelerator": "TPU"
  },
  "cells": [
    {
      "cell_type": "code",
      "source": [
        "from google.colab import drive\n",
        "drive.mount('/content/drive')"
      ],
      "metadata": {
        "colab": {
          "base_uri": "https://localhost:8080/"
        },
        "id": "WKeZdlaojL59",
        "outputId": "cbc22ece-6fa4-472b-e998-db6dbeebdd1f"
      },
      "execution_count": 1,
      "outputs": [
        {
          "output_type": "stream",
          "name": "stdout",
          "text": [
            "Mounted at /content/drive\n"
          ]
        }
      ]
    },
    {
      "cell_type": "code",
      "source": [
        "file_path = '/content/drive/MyDrive/dataset1/common_dataset_touch_features_offset.xlsx'"
      ],
      "metadata": {
        "id": "wG4IKmo1jLua"
      },
      "execution_count": 2,
      "outputs": []
    },
    {
      "cell_type": "code",
      "source": [
        "import pandas as pd\n",
        "\n",
        "data = pd.read_excel(file_path)"
      ],
      "metadata": {
        "id": "LosWBUUqjLjH"
      },
      "execution_count": 3,
      "outputs": []
    },
    {
      "cell_type": "code",
      "source": [
        "data = data.drop(columns='user_id')"
      ],
      "metadata": {
        "id": "WQBBGK-ijZtw"
      },
      "execution_count": 4,
      "outputs": []
    },
    {
      "cell_type": "code",
      "source": [
        "data = data.drop(columns='touch')\n",
        "data = data.drop(columns='finger')\n",
        "data = data.drop(columns='palm')\n",
        "data = data.drop(columns='fist')"
      ],
      "metadata": {
        "id": "dBmhoD5WjbYC"
      },
      "execution_count": 5,
      "outputs": []
    },
    {
      "cell_type": "code",
      "source": [
        "#Veri setinin genel bilgileri\n",
        "print(data.info())"
      ],
      "metadata": {
        "colab": {
          "base_uri": "https://localhost:8080/"
        },
        "id": "ET1h9guejb9T",
        "outputId": "20b7b896-9eec-4776-f8e9-99344513a09e"
      },
      "execution_count": 6,
      "outputs": [
        {
          "output_type": "stream",
          "name": "stdout",
          "text": [
            "<class 'pandas.core.frame.DataFrame'>\n",
            "RangeIndex: 2056 entries, 0 to 2055\n",
            "Columns: 3201 entries, touch_type to 3200\n",
            "dtypes: int64(3201)\n",
            "memory usage: 50.2 MB\n",
            "None\n"
          ]
        }
      ]
    },
    {
      "cell_type": "code",
      "source": [
        "#touch_type dağılımı\n",
        "print(data['touch_type'].value_counts())"
      ],
      "metadata": {
        "colab": {
          "base_uri": "https://localhost:8080/"
        },
        "id": "rkq5j5oUjejx",
        "outputId": "cb2250be-d71a-4698-e610-a911f080226f"
      },
      "execution_count": 7,
      "outputs": [
        {
          "output_type": "stream",
          "name": "stdout",
          "text": [
            "touch_type\n",
            "0    1144\n",
            "1     123\n",
            "8     123\n",
            "2     112\n",
            "9     103\n",
            "7      99\n",
            "6      92\n",
            "3      90\n",
            "5      88\n",
            "4      82\n",
            "Name: count, dtype: int64\n"
          ]
        }
      ]
    },
    {
      "cell_type": "code",
      "source": [
        "data.columns = data.columns.astype(str)"
      ],
      "metadata": {
        "id": "FqOqL-NXjfJ9"
      },
      "execution_count": 8,
      "outputs": []
    },
    {
      "cell_type": "code",
      "source": [
        "#İlk birkaç satırı\n",
        "print(data.head())"
      ],
      "metadata": {
        "colab": {
          "base_uri": "https://localhost:8080/"
        },
        "id": "v-anvQUUjiIz",
        "outputId": "d2a01dd0-043d-44b7-9c97-14bebc39a62d"
      },
      "execution_count": 9,
      "outputs": [
        {
          "output_type": "stream",
          "name": "stdout",
          "text": [
            "   touch_type   1  2   3   4   5   6   7   8   9  ...  3191  3192  3193  3194  \\\n",
            "0           0   4  0  12 -16  -2   0 -25   6  -6  ...   -51     4     1     3   \n",
            "1           0 -52 -2  17   1  15  -9 -22 -17  -8  ...   -36    -1    49     6   \n",
            "2           0   2  7  14  -5  16  12 -17 -22 -13  ...     1    55    54   -51   \n",
            "3           0   0  6  10   8  -2   2   1  -4   9  ...     1     2    28     2   \n",
            "4           0   2  5   3   0  17  10 -19 -19 -13  ...   -25    51    -6   -45   \n",
            "\n",
            "   3195  3196  3197  3198  3199  3200  \n",
            "0   -42     2     3    61     2    -1  \n",
            "1   -58     8    49    63    47     6  \n",
            "2   -26    55    56     9    55    52  \n",
            "3     1     9    55    53    -7    51  \n",
            "4    -4    61    48    60    46     5  \n",
            "\n",
            "[5 rows x 3201 columns]\n"
          ]
        }
      ]
    },
    {
      "cell_type": "markdown",
      "source": [
        "**Default SVC modeli**"
      ],
      "metadata": {
        "id": "Ok9h1xTtvDlK"
      }
    },
    {
      "cell_type": "code",
      "source": [
        "import pandas as pd\n",
        "from sklearn.model_selection import train_test_split\n",
        "from sklearn.svm import SVC\n",
        "from sklearn.metrics import classification_report, confusion_matrix\n",
        "import matplotlib.pyplot as plt\n",
        "import seaborn as sns"
      ],
      "metadata": {
        "id": "xrLFgSc8juUS"
      },
      "execution_count": 10,
      "outputs": []
    },
    {
      "cell_type": "code",
      "source": [
        "#  'touch_type'\n",
        "X = data.drop(columns='touch_type')\n",
        "y = data['touch_type']"
      ],
      "metadata": {
        "id": "IB8Ir58bjvDf"
      },
      "execution_count": 34,
      "outputs": []
    },
    {
      "cell_type": "code",
      "source": [
        "X_train, X_test, y_train, y_test = train_test_split(X, y, test_size=0.2, random_state=42)"
      ],
      "metadata": {
        "id": "oL0FCshfkjb2"
      },
      "execution_count": 12,
      "outputs": []
    },
    {
      "cell_type": "code",
      "source": [
        "#Default SVC modeli ile eğitim\n",
        "svc = SVC()\n",
        "svc.fit(X_train, y_train)"
      ],
      "metadata": {
        "colab": {
          "base_uri": "https://localhost:8080/",
          "height": 75
        },
        "id": "EODyAftckk9Y",
        "outputId": "11ee8c9e-3804-416b-a68d-6d3c01358c63"
      },
      "execution_count": 13,
      "outputs": [
        {
          "output_type": "execute_result",
          "data": {
            "text/plain": [
              "SVC()"
            ],
            "text/html": [
              "<style>#sk-container-id-1 {color: black;background-color: white;}#sk-container-id-1 pre{padding: 0;}#sk-container-id-1 div.sk-toggleable {background-color: white;}#sk-container-id-1 label.sk-toggleable__label {cursor: pointer;display: block;width: 100%;margin-bottom: 0;padding: 0.3em;box-sizing: border-box;text-align: center;}#sk-container-id-1 label.sk-toggleable__label-arrow:before {content: \"▸\";float: left;margin-right: 0.25em;color: #696969;}#sk-container-id-1 label.sk-toggleable__label-arrow:hover:before {color: black;}#sk-container-id-1 div.sk-estimator:hover label.sk-toggleable__label-arrow:before {color: black;}#sk-container-id-1 div.sk-toggleable__content {max-height: 0;max-width: 0;overflow: hidden;text-align: left;background-color: #f0f8ff;}#sk-container-id-1 div.sk-toggleable__content pre {margin: 0.2em;color: black;border-radius: 0.25em;background-color: #f0f8ff;}#sk-container-id-1 input.sk-toggleable__control:checked~div.sk-toggleable__content {max-height: 200px;max-width: 100%;overflow: auto;}#sk-container-id-1 input.sk-toggleable__control:checked~label.sk-toggleable__label-arrow:before {content: \"▾\";}#sk-container-id-1 div.sk-estimator input.sk-toggleable__control:checked~label.sk-toggleable__label {background-color: #d4ebff;}#sk-container-id-1 div.sk-label input.sk-toggleable__control:checked~label.sk-toggleable__label {background-color: #d4ebff;}#sk-container-id-1 input.sk-hidden--visually {border: 0;clip: rect(1px 1px 1px 1px);clip: rect(1px, 1px, 1px, 1px);height: 1px;margin: -1px;overflow: hidden;padding: 0;position: absolute;width: 1px;}#sk-container-id-1 div.sk-estimator {font-family: monospace;background-color: #f0f8ff;border: 1px dotted black;border-radius: 0.25em;box-sizing: border-box;margin-bottom: 0.5em;}#sk-container-id-1 div.sk-estimator:hover {background-color: #d4ebff;}#sk-container-id-1 div.sk-parallel-item::after {content: \"\";width: 100%;border-bottom: 1px solid gray;flex-grow: 1;}#sk-container-id-1 div.sk-label:hover label.sk-toggleable__label {background-color: #d4ebff;}#sk-container-id-1 div.sk-serial::before {content: \"\";position: absolute;border-left: 1px solid gray;box-sizing: border-box;top: 0;bottom: 0;left: 50%;z-index: 0;}#sk-container-id-1 div.sk-serial {display: flex;flex-direction: column;align-items: center;background-color: white;padding-right: 0.2em;padding-left: 0.2em;position: relative;}#sk-container-id-1 div.sk-item {position: relative;z-index: 1;}#sk-container-id-1 div.sk-parallel {display: flex;align-items: stretch;justify-content: center;background-color: white;position: relative;}#sk-container-id-1 div.sk-item::before, #sk-container-id-1 div.sk-parallel-item::before {content: \"\";position: absolute;border-left: 1px solid gray;box-sizing: border-box;top: 0;bottom: 0;left: 50%;z-index: -1;}#sk-container-id-1 div.sk-parallel-item {display: flex;flex-direction: column;z-index: 1;position: relative;background-color: white;}#sk-container-id-1 div.sk-parallel-item:first-child::after {align-self: flex-end;width: 50%;}#sk-container-id-1 div.sk-parallel-item:last-child::after {align-self: flex-start;width: 50%;}#sk-container-id-1 div.sk-parallel-item:only-child::after {width: 0;}#sk-container-id-1 div.sk-dashed-wrapped {border: 1px dashed gray;margin: 0 0.4em 0.5em 0.4em;box-sizing: border-box;padding-bottom: 0.4em;background-color: white;}#sk-container-id-1 div.sk-label label {font-family: monospace;font-weight: bold;display: inline-block;line-height: 1.2em;}#sk-container-id-1 div.sk-label-container {text-align: center;}#sk-container-id-1 div.sk-container {/* jupyter's `normalize.less` sets `[hidden] { display: none; }` but bootstrap.min.css set `[hidden] { display: none !important; }` so we also need the `!important` here to be able to override the default hidden behavior on the sphinx rendered scikit-learn.org. See: https://github.com/scikit-learn/scikit-learn/issues/21755 */display: inline-block !important;position: relative;}#sk-container-id-1 div.sk-text-repr-fallback {display: none;}</style><div id=\"sk-container-id-1\" class=\"sk-top-container\"><div class=\"sk-text-repr-fallback\"><pre>SVC()</pre><b>In a Jupyter environment, please rerun this cell to show the HTML representation or trust the notebook. <br />On GitHub, the HTML representation is unable to render, please try loading this page with nbviewer.org.</b></div><div class=\"sk-container\" hidden><div class=\"sk-item\"><div class=\"sk-estimator sk-toggleable\"><input class=\"sk-toggleable__control sk-hidden--visually\" id=\"sk-estimator-id-1\" type=\"checkbox\" checked><label for=\"sk-estimator-id-1\" class=\"sk-toggleable__label sk-toggleable__label-arrow\">SVC</label><div class=\"sk-toggleable__content\"><pre>SVC()</pre></div></div></div></div></div>"
            ]
          },
          "metadata": {},
          "execution_count": 13
        }
      ]
    },
    {
      "cell_type": "code",
      "source": [
        "y_pred = svc.predict(X_test)"
      ],
      "metadata": {
        "id": "Hk75M80fkoj4"
      },
      "execution_count": 14,
      "outputs": []
    },
    {
      "cell_type": "code",
      "source": [
        "print(classification_report(y_test, y_pred))"
      ],
      "metadata": {
        "colab": {
          "base_uri": "https://localhost:8080/"
        },
        "id": "MY0rbs2OkrYl",
        "outputId": "066c9019-cb49-4142-ebcc-10819e794afd"
      },
      "execution_count": 15,
      "outputs": [
        {
          "output_type": "stream",
          "name": "stdout",
          "text": [
            "              precision    recall  f1-score   support\n",
            "\n",
            "           0       0.78      1.00      0.88       231\n",
            "           1       0.37      0.56      0.44        18\n",
            "           2       0.27      0.15      0.19        20\n",
            "           3       0.00      0.00      0.00        22\n",
            "           4       0.00      0.00      0.00        20\n",
            "           5       0.33      0.05      0.09        20\n",
            "           6       0.00      0.00      0.00        20\n",
            "           7       0.30      0.80      0.44        15\n",
            "           8       0.80      0.69      0.74        29\n",
            "           9       0.38      0.18      0.24        17\n",
            "\n",
            "    accuracy                           0.68       412\n",
            "   macro avg       0.32      0.34      0.30       412\n",
            "weighted avg       0.57      0.68      0.60       412\n",
            "\n"
          ]
        },
        {
          "output_type": "stream",
          "name": "stderr",
          "text": [
            "/usr/local/lib/python3.10/dist-packages/sklearn/metrics/_classification.py:1344: UndefinedMetricWarning: Precision and F-score are ill-defined and being set to 0.0 in labels with no predicted samples. Use `zero_division` parameter to control this behavior.\n",
            "  _warn_prf(average, modifier, msg_start, len(result))\n",
            "/usr/local/lib/python3.10/dist-packages/sklearn/metrics/_classification.py:1344: UndefinedMetricWarning: Precision and F-score are ill-defined and being set to 0.0 in labels with no predicted samples. Use `zero_division` parameter to control this behavior.\n",
            "  _warn_prf(average, modifier, msg_start, len(result))\n",
            "/usr/local/lib/python3.10/dist-packages/sklearn/metrics/_classification.py:1344: UndefinedMetricWarning: Precision and F-score are ill-defined and being set to 0.0 in labels with no predicted samples. Use `zero_division` parameter to control this behavior.\n",
            "  _warn_prf(average, modifier, msg_start, len(result))\n"
          ]
        }
      ]
    },
    {
      "cell_type": "code",
      "source": [
        "# Confusion Matrix\n",
        "cm = confusion_matrix(y_test, y_pred)\n",
        "plt.figure(figsize=(10, 7))\n",
        "sns.heatmap(cm, annot=True, fmt='d', cmap='Blues')\n",
        "plt.xlabel('Predicted')\n",
        "plt.ylabel('Actual')\n",
        "plt.title('Confusion Matrix')\n",
        "plt.show()"
      ],
      "metadata": {
        "colab": {
          "base_uri": "https://localhost:8080/",
          "height": 641
        },
        "id": "m4OIMHpYktjP",
        "outputId": "a234ac3c-f8e7-4b45-d14b-8aa3d4eac34c"
      },
      "execution_count": 16,
      "outputs": [
        {
          "output_type": "display_data",
          "data": {
            "text/plain": [
              "<Figure size 1000x700 with 2 Axes>"
            ],
            "image/png": "[encoded data removed]"
          },
          "metadata": {}
        }
      ]
    },
    {
      "cell_type": "code",
      "source": [],
      "metadata": {
        "id": "20JuaY9Hkwqf"
      },
      "execution_count": null,
      "outputs": []
    },
    {
      "cell_type": "code",
      "source": [
        "from sklearn.model_selection import GridSearchCV\n",
        "\n",
        "# Hyperparametre optimizasyonu\n",
        "param_grid = {\n",
        "    'C': [0.1, 1, 10, 100],\n",
        "    'gamma': [1, 0.1, 0.01, 0.001],\n",
        "    'kernel': ['rbf', 'poly', 'sigmoid']\n",
        "}"
      ],
      "metadata": {
        "id": "EReL0YJRk0yn"
      },
      "execution_count": 17,
      "outputs": []
    },
    {
      "cell_type": "code",
      "source": [
        "grid = GridSearchCV(SVC(), param_grid, refit=True, verbose=2)\n",
        "grid.fit(X_train, y_train)"
      ],
      "metadata": {
        "colab": {
          "base_uri": "https://localhost:8080/",
          "height": 1000
        },
        "id": "Z-mwdpKkk0vo",
        "outputId": "48a7e642-ad37-4071-ba54-1c1607118a61"
      },
      "execution_count": 18,
      "outputs": [
        {
          "output_type": "stream",
          "name": "stdout",
          "text": [
            "Fitting 5 folds for each of 48 candidates, totalling 240 fits\n",
            "[CV] END .........................C=0.1, gamma=1, kernel=rbf; total time=  21.0s\n",
            "[CV] END .........................C=0.1, gamma=1, kernel=rbf; total time=  22.1s\n",
            "[CV] END .........................C=0.1, gamma=1, kernel=rbf; total time=  14.9s\n",
            "[CV] END .........................C=0.1, gamma=1, kernel=rbf; total time=  15.7s\n",
            "[CV] END .........................C=0.1, gamma=1, kernel=rbf; total time=  15.6s\n",
            "[CV] END ........................C=0.1, gamma=1, kernel=poly; total time=  11.6s\n",
            "[CV] END ........................C=0.1, gamma=1, kernel=poly; total time=  12.4s\n",
            "[CV] END ........................C=0.1, gamma=1, kernel=poly; total time=  12.9s\n",
            "[CV] END ........................C=0.1, gamma=1, kernel=poly; total time=  14.0s\n",
            "[CV] END ........................C=0.1, gamma=1, kernel=poly; total time=  11.9s\n",
            "[CV] END .....................C=0.1, gamma=1, kernel=sigmoid; total time=   3.6s\n",
            "[CV] END .....................C=0.1, gamma=1, kernel=sigmoid; total time=   3.7s\n",
            "[CV] END .....................C=0.1, gamma=1, kernel=sigmoid; total time=   3.8s\n",
            "[CV] END .....................C=0.1, gamma=1, kernel=sigmoid; total time=   4.5s\n",
            "[CV] END .....................C=0.1, gamma=1, kernel=sigmoid; total time=   3.7s\n",
            "[CV] END .......................C=0.1, gamma=0.1, kernel=rbf; total time=  15.1s\n",
            "[CV] END .......................C=0.1, gamma=0.1, kernel=rbf; total time=  16.2s\n",
            "[CV] END .......................C=0.1, gamma=0.1, kernel=rbf; total time=  15.3s\n",
            "[CV] END .......................C=0.1, gamma=0.1, kernel=rbf; total time=  15.9s\n",
            "[CV] END .......................C=0.1, gamma=0.1, kernel=rbf; total time=  16.6s\n",
            "[CV] END ......................C=0.1, gamma=0.1, kernel=poly; total time=  12.5s\n",
            "[CV] END ......................C=0.1, gamma=0.1, kernel=poly; total time=  13.2s\n",
            "[CV] END ......................C=0.1, gamma=0.1, kernel=poly; total time=  13.5s\n",
            "[CV] END ......................C=0.1, gamma=0.1, kernel=poly; total time=  13.2s\n",
            "[CV] END ......................C=0.1, gamma=0.1, kernel=poly; total time=  14.2s\n",
            "[CV] END ...................C=0.1, gamma=0.1, kernel=sigmoid; total time=   3.7s\n",
            "[CV] END ...................C=0.1, gamma=0.1, kernel=sigmoid; total time=   3.9s\n",
            "[CV] END ...................C=0.1, gamma=0.1, kernel=sigmoid; total time=   4.2s\n",
            "[CV] END ...................C=0.1, gamma=0.1, kernel=sigmoid; total time=   3.7s\n",
            "[CV] END ...................C=0.1, gamma=0.1, kernel=sigmoid; total time=   3.9s\n",
            "[CV] END ......................C=0.1, gamma=0.01, kernel=rbf; total time=  17.0s\n",
            "[CV] END ......................C=0.1, gamma=0.01, kernel=rbf; total time=  17.3s\n",
            "[CV] END ......................C=0.1, gamma=0.01, kernel=rbf; total time=  16.1s\n",
            "[CV] END ......................C=0.1, gamma=0.01, kernel=rbf; total time=  16.0s\n",
            "[CV] END ......................C=0.1, gamma=0.01, kernel=rbf; total time=  15.8s\n",
            "[CV] END .....................C=0.1, gamma=0.01, kernel=poly; total time=  12.9s\n",
            "[CV] END .....................C=0.1, gamma=0.01, kernel=poly; total time=  12.1s\n",
            "[CV] END .....................C=0.1, gamma=0.01, kernel=poly; total time=  11.9s\n",
            "[CV] END .....................C=0.1, gamma=0.01, kernel=poly; total time=  12.8s\n",
            "[CV] END .....................C=0.1, gamma=0.01, kernel=poly; total time=  14.8s\n",
            "[CV] END ..................C=0.1, gamma=0.01, kernel=sigmoid; total time=   4.6s\n",
            "[CV] END ..................C=0.1, gamma=0.01, kernel=sigmoid; total time=   4.5s\n",
            "[CV] END ..................C=0.1, gamma=0.01, kernel=sigmoid; total time=   3.9s\n",
            "[CV] END ..................C=0.1, gamma=0.01, kernel=sigmoid; total time=   4.1s\n",
            "[CV] END ..................C=0.1, gamma=0.01, kernel=sigmoid; total time=   4.6s\n",
            "[CV] END .....................C=0.1, gamma=0.001, kernel=rbf; total time=  24.3s\n",
            "[CV] END .....................C=0.1, gamma=0.001, kernel=rbf; total time=  22.0s\n",
            "[CV] END .....................C=0.1, gamma=0.001, kernel=rbf; total time=  18.5s\n",
            "[CV] END .....................C=0.1, gamma=0.001, kernel=rbf; total time=  17.1s\n",
            "[CV] END .....................C=0.1, gamma=0.001, kernel=rbf; total time=  16.3s\n",
            "[CV] END ....................C=0.1, gamma=0.001, kernel=poly; total time=  15.4s\n",
            "[CV] END ....................C=0.1, gamma=0.001, kernel=poly; total time=  17.5s\n",
            "[CV] END ....................C=0.1, gamma=0.001, kernel=poly; total time=  20.6s\n",
            "[CV] END ....................C=0.1, gamma=0.001, kernel=poly; total time=  16.7s\n",
            "[CV] END ....................C=0.1, gamma=0.001, kernel=poly; total time=  17.8s\n",
            "[CV] END .................C=0.1, gamma=0.001, kernel=sigmoid; total time=   3.8s\n",
            "[CV] END .................C=0.1, gamma=0.001, kernel=sigmoid; total time=   3.9s\n",
            "[CV] END .................C=0.1, gamma=0.001, kernel=sigmoid; total time=   4.8s\n",
            "[CV] END .................C=0.1, gamma=0.001, kernel=sigmoid; total time=   4.2s\n",
            "[CV] END .................C=0.1, gamma=0.001, kernel=sigmoid; total time=   4.2s\n",
            "[CV] END ...........................C=1, gamma=1, kernel=rbf; total time=  20.9s\n",
            "[CV] END ...........................C=1, gamma=1, kernel=rbf; total time=  19.9s\n",
            "[CV] END ...........................C=1, gamma=1, kernel=rbf; total time=  19.6s\n",
            "[CV] END ...........................C=1, gamma=1, kernel=rbf; total time=  24.0s\n",
            "[CV] END ...........................C=1, gamma=1, kernel=rbf; total time=  18.3s\n",
            "[CV] END ..........................C=1, gamma=1, kernel=poly; total time=  23.4s\n",
            "[CV] END ..........................C=1, gamma=1, kernel=poly; total time=  16.5s\n",
            "[CV] END ..........................C=1, gamma=1, kernel=poly; total time=  13.3s\n",
            "[CV] END ..........................C=1, gamma=1, kernel=poly; total time=  13.5s\n",
            "[CV] END ..........................C=1, gamma=1, kernel=poly; total time=  13.4s\n",
            "[CV] END .......................C=1, gamma=1, kernel=sigmoid; total time=   3.8s\n",
            "[CV] END .......................C=1, gamma=1, kernel=sigmoid; total time=   4.8s\n",
            "[CV] END .......................C=1, gamma=1, kernel=sigmoid; total time=   4.1s\n",
            "[CV] END .......................C=1, gamma=1, kernel=sigmoid; total time=   3.7s\n",
            "[CV] END .......................C=1, gamma=1, kernel=sigmoid; total time=   4.1s\n",
            "[CV] END .........................C=1, gamma=0.1, kernel=rbf; total time=  15.4s\n",
            "[CV] END .........................C=1, gamma=0.1, kernel=rbf; total time=  15.7s\n",
            "[CV] END .........................C=1, gamma=0.1, kernel=rbf; total time=  16.6s\n",
            "[CV] END .........................C=1, gamma=0.1, kernel=rbf; total time=  17.2s\n",
            "[CV] END .........................C=1, gamma=0.1, kernel=rbf; total time=  24.3s\n",
            "[CV] END ........................C=1, gamma=0.1, kernel=poly; total time=  12.5s\n",
            "[CV] END ........................C=1, gamma=0.1, kernel=poly; total time=  12.1s\n",
            "[CV] END ........................C=1, gamma=0.1, kernel=poly; total time=  13.4s\n",
            "[CV] END ........................C=1, gamma=0.1, kernel=poly; total time=  15.9s\n",
            "[CV] END ........................C=1, gamma=0.1, kernel=poly; total time=  16.8s\n",
            "[CV] END .....................C=1, gamma=0.1, kernel=sigmoid; total time=   5.3s\n",
            "[CV] END .....................C=1, gamma=0.1, kernel=sigmoid; total time=   9.5s\n",
            "[CV] END .....................C=1, gamma=0.1, kernel=sigmoid; total time=   5.5s\n",
            "[CV] END .....................C=1, gamma=0.1, kernel=sigmoid; total time=   7.2s\n",
            "[CV] END .....................C=1, gamma=0.1, kernel=sigmoid; total time=   3.5s\n",
            "[CV] END ........................C=1, gamma=0.01, kernel=rbf; total time=  15.3s\n",
            "[CV] END ........................C=1, gamma=0.01, kernel=rbf; total time=  15.6s\n",
            "[CV] END ........................C=1, gamma=0.01, kernel=rbf; total time=  16.5s\n",
            "[CV] END ........................C=1, gamma=0.01, kernel=rbf; total time=  15.3s\n",
            "[CV] END ........................C=1, gamma=0.01, kernel=rbf; total time=  15.9s\n",
            "[CV] END .......................C=1, gamma=0.01, kernel=poly; total time=  12.7s\n",
            "[CV] END .......................C=1, gamma=0.01, kernel=poly; total time=  12.4s\n",
            "[CV] END .......................C=1, gamma=0.01, kernel=poly; total time=  12.2s\n",
            "[CV] END .......................C=1, gamma=0.01, kernel=poly; total time=  12.3s\n",
            "[CV] END .......................C=1, gamma=0.01, kernel=poly; total time=  12.3s\n",
            "[CV] END ....................C=1, gamma=0.01, kernel=sigmoid; total time=   4.1s\n",
            "[CV] END ....................C=1, gamma=0.01, kernel=sigmoid; total time=   3.7s\n",
            "[CV] END ....................C=1, gamma=0.01, kernel=sigmoid; total time=   3.7s\n",
            "[CV] END ....................C=1, gamma=0.01, kernel=sigmoid; total time=   4.4s\n",
            "[CV] END ....................C=1, gamma=0.01, kernel=sigmoid; total time=   3.5s\n",
            "[CV] END .......................C=1, gamma=0.001, kernel=rbf; total time=  15.8s\n",
            "[CV] END .......................C=1, gamma=0.001, kernel=rbf; total time=  15.8s\n",
            "[CV] END .......................C=1, gamma=0.001, kernel=rbf; total time=  15.9s\n",
            "[CV] END .......................C=1, gamma=0.001, kernel=rbf; total time=  16.1s\n",
            "[CV] END .......................C=1, gamma=0.001, kernel=rbf; total time=  15.6s\n",
            "[CV] END ......................C=1, gamma=0.001, kernel=poly; total time=  11.8s\n",
            "[CV] END ......................C=1, gamma=0.001, kernel=poly; total time=  11.8s\n",
            "[CV] END ......................C=1, gamma=0.001, kernel=poly; total time=  12.2s\n",
            "[CV] END ......................C=1, gamma=0.001, kernel=poly; total time=  12.3s\n",
            "[CV] END ......................C=1, gamma=0.001, kernel=poly; total time=  11.5s\n",
            "[CV] END ...................C=1, gamma=0.001, kernel=sigmoid; total time=   4.2s\n",
            "[CV] END ...................C=1, gamma=0.001, kernel=sigmoid; total time=   3.6s\n",
            "[CV] END ...................C=1, gamma=0.001, kernel=sigmoid; total time=   3.4s\n",
            "[CV] END ...................C=1, gamma=0.001, kernel=sigmoid; total time=   4.1s\n",
            "[CV] END ...................C=1, gamma=0.001, kernel=sigmoid; total time=   4.2s\n",
            "[CV] END ..........................C=10, gamma=1, kernel=rbf; total time=  15.0s\n",
            "[CV] END ..........................C=10, gamma=1, kernel=rbf; total time=  15.2s\n",
            "[CV] END ..........................C=10, gamma=1, kernel=rbf; total time=  14.9s\n",
            "[CV] END ..........................C=10, gamma=1, kernel=rbf; total time=  16.3s\n",
            "[CV] END ..........................C=10, gamma=1, kernel=rbf; total time=  15.1s\n",
            "[CV] END .........................C=10, gamma=1, kernel=poly; total time=  12.3s\n",
            "[CV] END .........................C=10, gamma=1, kernel=poly; total time=  12.0s\n",
            "[CV] END .........................C=10, gamma=1, kernel=poly; total time=  11.4s\n",
            "[CV] END .........................C=10, gamma=1, kernel=poly; total time=  12.9s\n",
            "[CV] END .........................C=10, gamma=1, kernel=poly; total time=  12.0s\n",
            "[CV] END ......................C=10, gamma=1, kernel=sigmoid; total time=   4.0s\n",
            "[CV] END ......................C=10, gamma=1, kernel=sigmoid; total time=   4.3s\n",
            "[CV] END ......................C=10, gamma=1, kernel=sigmoid; total time=   3.6s\n",
            "[CV] END ......................C=10, gamma=1, kernel=sigmoid; total time=   3.5s\n",
            "[CV] END ......................C=10, gamma=1, kernel=sigmoid; total time=   3.7s\n",
            "[CV] END ........................C=10, gamma=0.1, kernel=rbf; total time=  15.4s\n",
            "[CV] END ........................C=10, gamma=0.1, kernel=rbf; total time=  16.9s\n",
            "[CV] END ........................C=10, gamma=0.1, kernel=rbf; total time=  17.7s\n",
            "[CV] END ........................C=10, gamma=0.1, kernel=rbf; total time=  18.4s\n",
            "[CV] END ........................C=10, gamma=0.1, kernel=rbf; total time=  17.2s\n",
            "[CV] END .......................C=10, gamma=0.1, kernel=poly; total time=  13.5s\n",
            "[CV] END .......................C=10, gamma=0.1, kernel=poly; total time=  14.1s\n",
            "[CV] END .......................C=10, gamma=0.1, kernel=poly; total time=  13.4s\n",
            "[CV] END .......................C=10, gamma=0.1, kernel=poly; total time=  13.0s\n",
            "[CV] END .......................C=10, gamma=0.1, kernel=poly; total time=  12.8s\n",
            "[CV] END ....................C=10, gamma=0.1, kernel=sigmoid; total time=   3.8s\n",
            "[CV] END ....................C=10, gamma=0.1, kernel=sigmoid; total time=   3.9s\n",
            "[CV] END ....................C=10, gamma=0.1, kernel=sigmoid; total time=   4.5s\n",
            "[CV] END ....................C=10, gamma=0.1, kernel=sigmoid; total time=   3.7s\n",
            "[CV] END ....................C=10, gamma=0.1, kernel=sigmoid; total time=   3.5s\n",
            "[CV] END .......................C=10, gamma=0.01, kernel=rbf; total time=  15.4s\n",
            "[CV] END .......................C=10, gamma=0.01, kernel=rbf; total time=  15.4s\n",
            "[CV] END .......................C=10, gamma=0.01, kernel=rbf; total time=  15.6s\n",
            "[CV] END .......................C=10, gamma=0.01, kernel=rbf; total time=  17.0s\n",
            "[CV] END .......................C=10, gamma=0.01, kernel=rbf; total time=  16.6s\n",
            "[CV] END ......................C=10, gamma=0.01, kernel=poly; total time=  12.5s\n",
            "[CV] END ......................C=10, gamma=0.01, kernel=poly; total time=  12.3s\n",
            "[CV] END ......................C=10, gamma=0.01, kernel=poly; total time=  12.3s\n",
            "[CV] END ......................C=10, gamma=0.01, kernel=poly; total time=  12.5s\n",
            "[CV] END ......................C=10, gamma=0.01, kernel=poly; total time=  13.0s\n",
            "[CV] END ...................C=10, gamma=0.01, kernel=sigmoid; total time=   4.0s\n",
            "[CV] END ...................C=10, gamma=0.01, kernel=sigmoid; total time=   3.8s\n",
            "[CV] END ...................C=10, gamma=0.01, kernel=sigmoid; total time=   4.5s\n",
            "[CV] END ...................C=10, gamma=0.01, kernel=sigmoid; total time=   4.2s\n",
            "[CV] END ...................C=10, gamma=0.01, kernel=sigmoid; total time=   3.5s\n",
            "[CV] END ......................C=10, gamma=0.001, kernel=rbf; total time=  17.0s\n",
            "[CV] END ......................C=10, gamma=0.001, kernel=rbf; total time=  15.8s\n",
            "[CV] END ......................C=10, gamma=0.001, kernel=rbf; total time=  16.1s\n",
            "[CV] END ......................C=10, gamma=0.001, kernel=rbf; total time=  16.7s\n",
            "[CV] END ......................C=10, gamma=0.001, kernel=rbf; total time=  17.2s\n",
            "[CV] END .....................C=10, gamma=0.001, kernel=poly; total time=  11.9s\n",
            "[CV] END .....................C=10, gamma=0.001, kernel=poly; total time=  12.3s\n",
            "[CV] END .....................C=10, gamma=0.001, kernel=poly; total time=  12.6s\n",
            "[CV] END .....................C=10, gamma=0.001, kernel=poly; total time=  13.6s\n",
            "[CV] END .....................C=10, gamma=0.001, kernel=poly; total time=  13.5s\n",
            "[CV] END ..................C=10, gamma=0.001, kernel=sigmoid; total time=   3.9s\n",
            "[CV] END ..................C=10, gamma=0.001, kernel=sigmoid; total time=   4.1s\n",
            "[CV] END ..................C=10, gamma=0.001, kernel=sigmoid; total time=   4.4s\n",
            "[CV] END ..................C=10, gamma=0.001, kernel=sigmoid; total time=   3.6s\n",
            "[CV] END ..................C=10, gamma=0.001, kernel=sigmoid; total time=   3.8s\n",
            "[CV] END .........................C=100, gamma=1, kernel=rbf; total time=  16.3s\n",
            "[CV] END .........................C=100, gamma=1, kernel=rbf; total time=  17.9s\n",
            "[CV] END .........................C=100, gamma=1, kernel=rbf; total time=  16.8s\n",
            "[CV] END .........................C=100, gamma=1, kernel=rbf; total time=  17.4s\n",
            "[CV] END .........................C=100, gamma=1, kernel=rbf; total time=  17.6s\n",
            "[CV] END ........................C=100, gamma=1, kernel=poly; total time=  13.1s\n",
            "[CV] END ........................C=100, gamma=1, kernel=poly; total time=  13.5s\n",
            "[CV] END ........................C=100, gamma=1, kernel=poly; total time=  12.6s\n",
            "[CV] END ........................C=100, gamma=1, kernel=poly; total time=  13.6s\n",
            "[CV] END ........................C=100, gamma=1, kernel=poly; total time=  14.0s\n",
            "[CV] END .....................C=100, gamma=1, kernel=sigmoid; total time=   4.7s\n",
            "[CV] END .....................C=100, gamma=1, kernel=sigmoid; total time=   3.9s\n",
            "[CV] END .....................C=100, gamma=1, kernel=sigmoid; total time=   3.9s\n",
            "[CV] END .....................C=100, gamma=1, kernel=sigmoid; total time=   4.6s\n",
            "[CV] END .....................C=100, gamma=1, kernel=sigmoid; total time=   3.9s\n",
            "[CV] END .......................C=100, gamma=0.1, kernel=rbf; total time=  16.7s\n",
            "[CV] END .......................C=100, gamma=0.1, kernel=rbf; total time=  17.2s\n",
            "[CV] END .......................C=100, gamma=0.1, kernel=rbf; total time=  16.8s\n",
            "[CV] END .......................C=100, gamma=0.1, kernel=rbf; total time=  17.3s\n",
            "[CV] END .......................C=100, gamma=0.1, kernel=rbf; total time=  16.6s\n",
            "[CV] END ......................C=100, gamma=0.1, kernel=poly; total time=  13.5s\n",
            "[CV] END ......................C=100, gamma=0.1, kernel=poly; total time=  12.5s\n",
            "[CV] END ......................C=100, gamma=0.1, kernel=poly; total time=  12.6s\n",
            "[CV] END ......................C=100, gamma=0.1, kernel=poly; total time=  13.5s\n",
            "[CV] END ......................C=100, gamma=0.1, kernel=poly; total time=  13.5s\n",
            "[CV] END ...................C=100, gamma=0.1, kernel=sigmoid; total time=   3.8s\n",
            "[CV] END ...................C=100, gamma=0.1, kernel=sigmoid; total time=   4.3s\n",
            "[CV] END ...................C=100, gamma=0.1, kernel=sigmoid; total time=   3.9s\n",
            "[CV] END ...................C=100, gamma=0.1, kernel=sigmoid; total time=   3.7s\n",
            "[CV] END ...................C=100, gamma=0.1, kernel=sigmoid; total time=   3.4s\n",
            "[CV] END ......................C=100, gamma=0.01, kernel=rbf; total time=  16.1s\n",
            "[CV] END ......................C=100, gamma=0.01, kernel=rbf; total time=  17.1s\n",
            "[CV] END ......................C=100, gamma=0.01, kernel=rbf; total time=  16.4s\n",
            "[CV] END ......................C=100, gamma=0.01, kernel=rbf; total time=  16.8s\n",
            "[CV] END ......................C=100, gamma=0.01, kernel=rbf; total time=  15.8s\n",
            "[CV] END .....................C=100, gamma=0.01, kernel=poly; total time=  12.9s\n",
            "[CV] END .....................C=100, gamma=0.01, kernel=poly; total time=  13.1s\n",
            "[CV] END .....................C=100, gamma=0.01, kernel=poly; total time=  11.8s\n",
            "[CV] END .....................C=100, gamma=0.01, kernel=poly; total time=  12.1s\n",
            "[CV] END .....................C=100, gamma=0.01, kernel=poly; total time=  12.5s\n",
            "[CV] END ..................C=100, gamma=0.01, kernel=sigmoid; total time=   4.3s\n",
            "[CV] END ..................C=100, gamma=0.01, kernel=sigmoid; total time=   4.4s\n",
            "[CV] END ..................C=100, gamma=0.01, kernel=sigmoid; total time=   3.6s\n",
            "[CV] END ..................C=100, gamma=0.01, kernel=sigmoid; total time=   3.9s\n",
            "[CV] END ..................C=100, gamma=0.01, kernel=sigmoid; total time=   4.4s\n",
            "[CV] END .....................C=100, gamma=0.001, kernel=rbf; total time=  15.8s\n",
            "[CV] END .....................C=100, gamma=0.001, kernel=rbf; total time=  15.8s\n",
            "[CV] END .....................C=100, gamma=0.001, kernel=rbf; total time=  15.6s\n",
            "[CV] END .....................C=100, gamma=0.001, kernel=rbf; total time=  16.9s\n",
            "[CV] END .....................C=100, gamma=0.001, kernel=rbf; total time=  18.9s\n",
            "[CV] END ....................C=100, gamma=0.001, kernel=poly; total time=  14.4s\n",
            "[CV] END ....................C=100, gamma=0.001, kernel=poly; total time=  12.3s\n",
            "[CV] END ....................C=100, gamma=0.001, kernel=poly; total time=  12.7s\n",
            "[CV] END ....................C=100, gamma=0.001, kernel=poly; total time=  12.5s\n",
            "[CV] END ....................C=100, gamma=0.001, kernel=poly; total time=  11.9s\n",
            "[CV] END .................C=100, gamma=0.001, kernel=sigmoid; total time=   4.1s\n",
            "[CV] END .................C=100, gamma=0.001, kernel=sigmoid; total time=   4.1s\n",
            "[CV] END .................C=100, gamma=0.001, kernel=sigmoid; total time=   4.2s\n",
            "[CV] END .................C=100, gamma=0.001, kernel=sigmoid; total time=   4.6s\n",
            "[CV] END .................C=100, gamma=0.001, kernel=sigmoid; total time=   3.9s\n"
          ]
        },
        {
          "output_type": "execute_result",
          "data": {
            "text/plain": [
              "GridSearchCV(estimator=SVC(),\n",
              "             param_grid={'C': [0.1, 1, 10, 100], 'gamma': [1, 0.1, 0.01, 0.001],\n",
              "                         'kernel': ['rbf', 'poly', 'sigmoid']},\n",
              "             verbose=2)"
            ],
            "text/html": [
              "<style>#sk-container-id-2 {color: black;background-color: white;}#sk-container-id-2 pre{padding: 0;}#sk-container-id-2 div.sk-toggleable {background-color: white;}#sk-container-id-2 label.sk-toggleable__label {cursor: pointer;display: block;width: 100%;margin-bottom: 0;padding: 0.3em;box-sizing: border-box;text-align: center;}#sk-container-id-2 label.sk-toggleable__label-arrow:before {content: \"▸\";float: left;margin-right: 0.25em;color: #696969;}#sk-container-id-2 label.sk-toggleable__label-arrow:hover:before {color: black;}#sk-container-id-2 div.sk-estimator:hover label.sk-toggleable__label-arrow:before {color: black;}#sk-container-id-2 div.sk-toggleable__content {max-height: 0;max-width: 0;overflow: hidden;text-align: left;background-color: #f0f8ff;}#sk-container-id-2 div.sk-toggleable__content pre {margin: 0.2em;color: black;border-radius: 0.25em;background-color: #f0f8ff;}#sk-container-id-2 input.sk-toggleable__control:checked~div.sk-toggleable__content {max-height: 200px;max-width: 100%;overflow: auto;}#sk-container-id-2 input.sk-toggleable__control:checked~label.sk-toggleable__label-arrow:before {content: \"▾\";}#sk-container-id-2 div.sk-estimator input.sk-toggleable__control:checked~label.sk-toggleable__label {background-color: #d4ebff;}#sk-container-id-2 div.sk-label input.sk-toggleable__control:checked~label.sk-toggleable__label {background-color: #d4ebff;}#sk-container-id-2 input.sk-hidden--visually {border: 0;clip: rect(1px 1px 1px 1px);clip: rect(1px, 1px, 1px, 1px);height: 1px;margin: -1px;overflow: hidden;padding: 0;position: absolute;width: 1px;}#sk-container-id-2 div.sk-estimator {font-family: monospace;background-color: #f0f8ff;border: 1px dotted black;border-radius: 0.25em;box-sizing: border-box;margin-bottom: 0.5em;}#sk-container-id-2 div.sk-estimator:hover {background-color: #d4ebff;}#sk-container-id-2 div.sk-parallel-item::after {content: \"\";width: 100%;border-bottom: 1px solid gray;flex-grow: 1;}#sk-container-id-2 div.sk-label:hover label.sk-toggleable__label {background-color: #d4ebff;}#sk-container-id-2 div.sk-serial::before {content: \"\";position: absolute;border-left: 1px solid gray;box-sizing: border-box;top: 0;bottom: 0;left: 50%;z-index: 0;}#sk-container-id-2 div.sk-serial {display: flex;flex-direction: column;align-items: center;background-color: white;padding-right: 0.2em;padding-left: 0.2em;position: relative;}#sk-container-id-2 div.sk-item {position: relative;z-index: 1;}#sk-container-id-2 div.sk-parallel {display: flex;align-items: stretch;justify-content: center;background-color: white;position: relative;}#sk-container-id-2 div.sk-item::before, #sk-container-id-2 div.sk-parallel-item::before {content: \"\";position: absolute;border-left: 1px solid gray;box-sizing: border-box;top: 0;bottom: 0;left: 50%;z-index: -1;}#sk-container-id-2 div.sk-parallel-item {display: flex;flex-direction: column;z-index: 1;position: relative;background-color: white;}#sk-container-id-2 div.sk-parallel-item:first-child::after {align-self: flex-end;width: 50%;}#sk-container-id-2 div.sk-parallel-item:last-child::after {align-self: flex-start;width: 50%;}#sk-container-id-2 div.sk-parallel-item:only-child::after {width: 0;}#sk-container-id-2 div.sk-dashed-wrapped {border: 1px dashed gray;margin: 0 0.4em 0.5em 0.4em;box-sizing: border-box;padding-bottom: 0.4em;background-color: white;}#sk-container-id-2 div.sk-label label {font-family: monospace;font-weight: bold;display: inline-block;line-height: 1.2em;}#sk-container-id-2 div.sk-label-container {text-align: center;}#sk-container-id-2 div.sk-container {/* jupyter's `normalize.less` sets `[hidden] { display: none; }` but bootstrap.min.css set `[hidden] { display: none !important; }` so we also need the `!important` here to be able to override the default hidden behavior on the sphinx rendered scikit-learn.org. See: https://github.com/scikit-learn/scikit-learn/issues/21755 */display: inline-block !important;position: relative;}#sk-container-id-2 div.sk-text-repr-fallback {display: none;}</style><div id=\"sk-container-id-2\" class=\"sk-top-container\"><div class=\"sk-text-repr-fallback\"><pre>GridSearchCV(estimator=SVC(),\n",
              "             param_grid={&#x27;C&#x27;: [0.1, 1, 10, 100], &#x27;gamma&#x27;: [1, 0.1, 0.01, 0.001],\n",
              "                         &#x27;kernel&#x27;: [&#x27;rbf&#x27;, &#x27;poly&#x27;, &#x27;sigmoid&#x27;]},\n",
              "             verbose=2)</pre><b>In a Jupyter environment, please rerun this cell to show the HTML representation or trust the notebook. <br />On GitHub, the HTML representation is unable to render, please try loading this page with nbviewer.org.</b></div><div class=\"sk-container\" hidden><div class=\"sk-item sk-dashed-wrapped\"><div class=\"sk-label-container\"><div class=\"sk-label sk-toggleable\"><input class=\"sk-toggleable__control sk-hidden--visually\" id=\"sk-estimator-id-2\" type=\"checkbox\" ><label for=\"sk-estimator-id-2\" class=\"sk-toggleable__label sk-toggleable__label-arrow\">GridSearchCV</label><div class=\"sk-toggleable__content\"><pre>GridSearchCV(estimator=SVC(),\n",
              "             param_grid={&#x27;C&#x27;: [0.1, 1, 10, 100], &#x27;gamma&#x27;: [1, 0.1, 0.01, 0.001],\n",
              "                         &#x27;kernel&#x27;: [&#x27;rbf&#x27;, &#x27;poly&#x27;, &#x27;sigmoid&#x27;]},\n",
              "             verbose=2)</pre></div></div></div><div class=\"sk-parallel\"><div class=\"sk-parallel-item\"><div class=\"sk-item\"><div class=\"sk-label-container\"><div class=\"sk-label sk-toggleable\"><input class=\"sk-toggleable__control sk-hidden--visually\" id=\"sk-estimator-id-3\" type=\"checkbox\" ><label for=\"sk-estimator-id-3\" class=\"sk-toggleable__label sk-toggleable__label-arrow\">estimator: SVC</label><div class=\"sk-toggleable__content\"><pre>SVC()</pre></div></div></div><div class=\"sk-serial\"><div class=\"sk-item\"><div class=\"sk-estimator sk-toggleable\"><input class=\"sk-toggleable__control sk-hidden--visually\" id=\"sk-estimator-id-4\" type=\"checkbox\" ><label for=\"sk-estimator-id-4\" class=\"sk-toggleable__label sk-toggleable__label-arrow\">SVC</label><div class=\"sk-toggleable__content\"><pre>SVC()</pre></div></div></div></div></div></div></div></div></div></div>"
            ]
          },
          "metadata": {},
          "execution_count": 18
        }
      ]
    },
    {
      "cell_type": "code",
      "source": [
        "best_svc = grid.best_estimator_\n",
        "y_pred_best = best_svc.predict(X_test)"
      ],
      "metadata": {
        "id": "WVhaEAGzk5Ma"
      },
      "execution_count": 19,
      "outputs": []
    },
    {
      "cell_type": "code",
      "source": [
        "# Performans değerlendirmesi\n",
        "print(\"Best Parameters:\", grid.best_params_)\n",
        "print(classification_report(y_test, y_pred_best))"
      ],
      "metadata": {
        "colab": {
          "base_uri": "https://localhost:8080/"
        },
        "id": "_ZDPD1yMk8Dj",
        "outputId": "62c963a5-32fc-4242-ec00-7eb646c8bbae"
      },
      "execution_count": 20,
      "outputs": [
        {
          "output_type": "stream",
          "name": "stdout",
          "text": [
            "Best Parameters: {'C': 0.1, 'gamma': 1, 'kernel': 'poly'}\n",
            "              precision    recall  f1-score   support\n",
            "\n",
            "           0       0.73      1.00      0.84       231\n",
            "           1       0.60      0.50      0.55        18\n",
            "           2       0.47      0.45      0.46        20\n",
            "           3       0.00      0.00      0.00        22\n",
            "           4       0.00      0.00      0.00        20\n",
            "           5       0.50      0.05      0.09        20\n",
            "           6       0.44      0.20      0.28        20\n",
            "           7       0.46      0.40      0.43        15\n",
            "           8       0.72      0.62      0.67        29\n",
            "           9       0.46      0.35      0.40        17\n",
            "\n",
            "    accuracy                           0.69       412\n",
            "   macro avg       0.44      0.36      0.37       412\n",
            "weighted avg       0.59      0.69      0.62       412\n",
            "\n"
          ]
        },
        {
          "output_type": "stream",
          "name": "stderr",
          "text": [
            "/usr/local/lib/python3.10/dist-packages/sklearn/metrics/_classification.py:1344: UndefinedMetricWarning: Precision and F-score are ill-defined and being set to 0.0 in labels with no predicted samples. Use `zero_division` parameter to control this behavior.\n",
            "  _warn_prf(average, modifier, msg_start, len(result))\n",
            "/usr/local/lib/python3.10/dist-packages/sklearn/metrics/_classification.py:1344: UndefinedMetricWarning: Precision and F-score are ill-defined and being set to 0.0 in labels with no predicted samples. Use `zero_division` parameter to control this behavior.\n",
            "  _warn_prf(average, modifier, msg_start, len(result))\n",
            "/usr/local/lib/python3.10/dist-packages/sklearn/metrics/_classification.py:1344: UndefinedMetricWarning: Precision and F-score are ill-defined and being set to 0.0 in labels with no predicted samples. Use `zero_division` parameter to control this behavior.\n",
            "  _warn_prf(average, modifier, msg_start, len(result))\n"
          ]
        }
      ]
    },
    {
      "cell_type": "code",
      "source": [
        "cm_best = confusion_matrix(y_test, y_pred_best)\n",
        "plt.figure(figsize=(10, 7))\n",
        "sns.heatmap(cm_best, annot=True, fmt='d', cmap='Blues')\n",
        "plt.xlabel('Predicted')\n",
        "plt.ylabel('Actual')\n",
        "plt.title('Confusion Matrix (Optimized SVC)')\n",
        "plt.show()"
      ],
      "metadata": {
        "colab": {
          "base_uri": "https://localhost:8080/",
          "height": 641
        },
        "id": "1e6NWr5tk77I",
        "outputId": "1d2e63ea-5878-4081-f6fc-0fe16df43465"
      },
      "execution_count": 21,
      "outputs": [
        {
          "output_type": "display_data",
          "data": {
            "text/plain": [
              "<Figure size 1000x700 with 2 Axes>"
            ],
            "image/png": "[encoded data removed]"
          },
          "metadata": {}
        }
      ]
    },
    {
      "cell_type": "code",
      "source": [],
      "metadata": {
        "id": "eFBV7335m2KC"
      },
      "execution_count": null,
      "outputs": []
    },
    {
      "cell_type": "code",
      "source": [],
      "metadata": {
        "id": "I06zvqasm2Dn"
      },
      "execution_count": null,
      "outputs": []
    },
    {
      "cell_type": "code",
      "source": [
        "import pandas as pd\n",
        "import numpy as np\n",
        "from sklearn.model_selection import train_test_split\n",
        "from sklearn.preprocessing import StandardScaler\n",
        "from sklearn.decomposition import PCA\n",
        "from sklearn.tree import DecisionTreeClassifier\n",
        "from sklearn.metrics import accuracy_score, classification_report"
      ],
      "metadata": {
        "id": "fSmg3_4Om187"
      },
      "execution_count": 22,
      "outputs": []
    },
    {
      "cell_type": "code",
      "source": [
        "X = data.drop(columns='touch_type')\n",
        "y = data['touch_type']"
      ],
      "metadata": {
        "id": "AwdE05XEm7Sg"
      },
      "execution_count": 35,
      "outputs": []
    },
    {
      "cell_type": "code",
      "source": [
        "from sklearn.model_selection import train_test_split\n",
        "\n",
        "X_train, X_test, y_train, y_test = train_test_split(X, y, test_size=0.2, random_state=42)\n"
      ],
      "metadata": {
        "id": "VIe0PQj0nQCi"
      },
      "execution_count": 36,
      "outputs": []
    },
    {
      "cell_type": "code",
      "source": [
        "scaler = StandardScaler()\n",
        "X_train_scaled = scaler.fit_transform(X_train)\n",
        "X_test_scaled = scaler.transform(X_test)"
      ],
      "metadata": {
        "id": "AgBfkA40nRwv"
      },
      "execution_count": 37,
      "outputs": []
    },
    {
      "cell_type": "code",
      "source": [
        "# PCA modelini oluşturma\n",
        "pca = PCA(n_components=0.95)  # Varyansın %95'ini koruyacak şekilde bileşenleri seç\n",
        "X_train_pca = pca.fit_transform(X_train_scaled)\n",
        "X_test_pca = pca.transform(X_test_scaled)"
      ],
      "metadata": {
        "id": "tMTrr9ohnZIK"
      },
      "execution_count": 38,
      "outputs": []
    },
    {
      "cell_type": "code",
      "source": [
        "pca_optimal = PCA(n_components=n_components)\n",
        "X_train_pca = pca_optimal.fit_transform(X_scaled)\n",
        "X_test_pca = pca_optimal.transform(scaler.transform(X_test))"
      ],
      "metadata": {
        "id": "uEH_UqUynfwP"
      },
      "execution_count": 29,
      "outputs": []
    },
    {
      "cell_type": "code",
      "source": [
        "X_train, X_test, y_train, y_test = train_test_split(X, y, test_size=0.2, random_state=42)"
      ],
      "metadata": {
        "id": "mu5ge5kfo-AH"
      },
      "execution_count": 30,
      "outputs": []
    },
    {
      "cell_type": "code",
      "source": [
        "X_train_pca = pca_optimal.transform(scaler.transform(X_train))\n",
        "X_test_pca = pca_optimal.transform(scaler.transform(X_test))"
      ],
      "metadata": {
        "id": "ghkQjnbAo_dt"
      },
      "execution_count": 31,
      "outputs": []
    },
    {
      "cell_type": "code",
      "source": [
        "print(\"PCA ile seçilen bileşen sayısı:\", pca.n_components_)"
      ],
      "metadata": {
        "colab": {
          "base_uri": "https://localhost:8080/"
        },
        "id": "YIk9A1eGpBXe",
        "outputId": "95463d9d-d860-4c15-924f-ca3f25ed9191"
      },
      "execution_count": 39,
      "outputs": [
        {
          "output_type": "stream",
          "name": "stdout",
          "text": [
            "PCA ile seçilen bileşen sayısı: 827\n"
          ]
        }
      ]
    },
    {
      "cell_type": "code",
      "source": [
        "svc = SVC()\n",
        "svc.fit(X_train_pca, y_train)"
      ],
      "metadata": {
        "colab": {
          "base_uri": "https://localhost:8080/",
          "height": 75
        },
        "id": "iIn8jDTdpDu-",
        "outputId": "2ab48058-0aa3-4d7c-ab79-7d357d96cf3b"
      },
      "execution_count": 40,
      "outputs": [
        {
          "output_type": "execute_result",
          "data": {
            "text/plain": [
              "SVC()"
            ],
            "text/html": [
              "<style>#sk-container-id-4 {color: black;background-color: white;}#sk-container-id-4 pre{padding: 0;}#sk-container-id-4 div.sk-toggleable {background-color: white;}#sk-container-id-4 label.sk-toggleable__label {cursor: pointer;display: block;width: 100%;margin-bottom: 0;padding: 0.3em;box-sizing: border-box;text-align: center;}#sk-container-id-4 label.sk-toggleable__label-arrow:before {content: \"▸\";float: left;margin-right: 0.25em;color: #696969;}#sk-container-id-4 label.sk-toggleable__label-arrow:hover:before {color: black;}#sk-container-id-4 div.sk-estimator:hover label.sk-toggleable__label-arrow:before {color: black;}#sk-container-id-4 div.sk-toggleable__content {max-height: 0;max-width: 0;overflow: hidden;text-align: left;background-color: #f0f8ff;}#sk-container-id-4 div.sk-toggleable__content pre {margin: 0.2em;color: black;border-radius: 0.25em;background-color: #f0f8ff;}#sk-container-id-4 input.sk-toggleable__control:checked~div.sk-toggleable__content {max-height: 200px;max-width: 100%;overflow: auto;}#sk-container-id-4 input.sk-toggleable__control:checked~label.sk-toggleable__label-arrow:before {content: \"▾\";}#sk-container-id-4 div.sk-estimator input.sk-toggleable__control:checked~label.sk-toggleable__label {background-color: #d4ebff;}#sk-container-id-4 div.sk-label input.sk-toggleable__control:checked~label.sk-toggleable__label {background-color: #d4ebff;}#sk-container-id-4 input.sk-hidden--visually {border: 0;clip: rect(1px 1px 1px 1px);clip: rect(1px, 1px, 1px, 1px);height: 1px;margin: -1px;overflow: hidden;padding: 0;position: absolute;width: 1px;}#sk-container-id-4 div.sk-estimator {font-family: monospace;background-color: #f0f8ff;border: 1px dotted black;border-radius: 0.25em;box-sizing: border-box;margin-bottom: 0.5em;}#sk-container-id-4 div.sk-estimator:hover {background-color: #d4ebff;}#sk-container-id-4 div.sk-parallel-item::after {content: \"\";width: 100%;border-bottom: 1px solid gray;flex-grow: 1;}#sk-container-id-4 div.sk-label:hover label.sk-toggleable__label {background-color: #d4ebff;}#sk-container-id-4 div.sk-serial::before {content: \"\";position: absolute;border-left: 1px solid gray;box-sizing: border-box;top: 0;bottom: 0;left: 50%;z-index: 0;}#sk-container-id-4 div.sk-serial {display: flex;flex-direction: column;align-items: center;background-color: white;padding-right: 0.2em;padding-left: 0.2em;position: relative;}#sk-container-id-4 div.sk-item {position: relative;z-index: 1;}#sk-container-id-4 div.sk-parallel {display: flex;align-items: stretch;justify-content: center;background-color: white;position: relative;}#sk-container-id-4 div.sk-item::before, #sk-container-id-4 div.sk-parallel-item::before {content: \"\";position: absolute;border-left: 1px solid gray;box-sizing: border-box;top: 0;bottom: 0;left: 50%;z-index: -1;}#sk-container-id-4 div.sk-parallel-item {display: flex;flex-direction: column;z-index: 1;position: relative;background-color: white;}#sk-container-id-4 div.sk-parallel-item:first-child::after {align-self: flex-end;width: 50%;}#sk-container-id-4 div.sk-parallel-item:last-child::after {align-self: flex-start;width: 50%;}#sk-container-id-4 div.sk-parallel-item:only-child::after {width: 0;}#sk-container-id-4 div.sk-dashed-wrapped {border: 1px dashed gray;margin: 0 0.4em 0.5em 0.4em;box-sizing: border-box;padding-bottom: 0.4em;background-color: white;}#sk-container-id-4 div.sk-label label {font-family: monospace;font-weight: bold;display: inline-block;line-height: 1.2em;}#sk-container-id-4 div.sk-label-container {text-align: center;}#sk-container-id-4 div.sk-container {/* jupyter's `normalize.less` sets `[hidden] { display: none; }` but bootstrap.min.css set `[hidden] { display: none !important; }` so we also need the `!important` here to be able to override the default hidden behavior on the sphinx rendered scikit-learn.org. See: https://github.com/scikit-learn/scikit-learn/issues/21755 */display: inline-block !important;position: relative;}#sk-container-id-4 div.sk-text-repr-fallback {display: none;}</style><div id=\"sk-container-id-4\" class=\"sk-top-container\"><div class=\"sk-text-repr-fallback\"><pre>SVC()</pre><b>In a Jupyter environment, please rerun this cell to show the HTML representation or trust the notebook. <br />On GitHub, the HTML representation is unable to render, please try loading this page with nbviewer.org.</b></div><div class=\"sk-container\" hidden><div class=\"sk-item\"><div class=\"sk-estimator sk-toggleable\"><input class=\"sk-toggleable__control sk-hidden--visually\" id=\"sk-estimator-id-6\" type=\"checkbox\" checked><label for=\"sk-estimator-id-6\" class=\"sk-toggleable__label sk-toggleable__label-arrow\">SVC</label><div class=\"sk-toggleable__content\"><pre>SVC()</pre></div></div></div></div></div>"
            ]
          },
          "metadata": {},
          "execution_count": 40
        }
      ]
    },
    {
      "cell_type": "code",
      "source": [
        "y_train_pred = svc.predict(X_train_pca)\n",
        "train_accuracy = accuracy_score(y_train, y_train_pred)\n",
        "print(\"Eğitim veri seti doğruluğu:\", train_accuracy)\n",
        "\n",
        "# Test veri seti üzerinde tahmin yapma\n",
        "y_test_pred = svc.predict(X_test_pca)\n",
        "test_accuracy = accuracy_score(y_test, y_test_pred)\n",
        "print(\"Test veri seti doğruluğu:\", test_accuracy)\n",
        "\n",
        "# Sınıflandırma raporu\n",
        "print(\"\\nSınıflandırma Raporu:\")\n",
        "print(classification_report(y_test, y_test_pred))"
      ],
      "metadata": {
        "colab": {
          "base_uri": "https://localhost:8080/"
        },
        "id": "B6IKqEjLxJht",
        "outputId": "33e52d38-834b-48f6-b2b1-d58397116496"
      },
      "execution_count": 41,
      "outputs": [
        {
          "output_type": "stream",
          "name": "stdout",
          "text": [
            "Eğitim veri seti doğruluğu: 0.9051094890510949\n",
            "Test veri seti doğruluğu: 0.6771844660194175\n",
            "\n",
            "Sınıflandırma Raporu:\n",
            "              precision    recall  f1-score   support\n",
            "\n",
            "           0       0.77      1.00      0.87       231\n",
            "           1       0.40      0.56      0.47        18\n",
            "           2       0.36      0.20      0.26        20\n",
            "           3       0.00      0.00      0.00        22\n",
            "           4       0.00      0.00      0.00        20\n",
            "           5       0.00      0.00      0.00        20\n",
            "           6       0.17      0.05      0.08        20\n",
            "           7       0.28      0.60      0.38        15\n",
            "           8       0.74      0.69      0.71        29\n",
            "           9       0.44      0.24      0.31        17\n",
            "\n",
            "    accuracy                           0.68       412\n",
            "   macro avg       0.32      0.33      0.31       412\n",
            "weighted avg       0.56      0.68      0.60       412\n",
            "\n"
          ]
        },
        {
          "output_type": "stream",
          "name": "stderr",
          "text": [
            "/usr/local/lib/python3.10/dist-packages/sklearn/metrics/_classification.py:1344: UndefinedMetricWarning: Precision and F-score are ill-defined and being set to 0.0 in labels with no predicted samples. Use `zero_division` parameter to control this behavior.\n",
            "  _warn_prf(average, modifier, msg_start, len(result))\n",
            "/usr/local/lib/python3.10/dist-packages/sklearn/metrics/_classification.py:1344: UndefinedMetricWarning: Precision and F-score are ill-defined and being set to 0.0 in labels with no predicted samples. Use `zero_division` parameter to control this behavior.\n",
            "  _warn_prf(average, modifier, msg_start, len(result))\n",
            "/usr/local/lib/python3.10/dist-packages/sklearn/metrics/_classification.py:1344: UndefinedMetricWarning: Precision and F-score are ill-defined and being set to 0.0 in labels with no predicted samples. Use `zero_division` parameter to control this behavior.\n",
            "  _warn_prf(average, modifier, msg_start, len(result))\n"
          ]
        }
      ]
    },
    {
      "cell_type": "code",
      "source": [],
      "metadata": {
        "id": "dasoeWZ4xNlp"
      },
      "execution_count": null,
      "outputs": []
    }
  ]
}